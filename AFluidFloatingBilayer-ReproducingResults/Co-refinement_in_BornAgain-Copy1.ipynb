{
 "cells": [
  {
   "cell_type": "markdown",
   "metadata": {},
   "source": [
    " <h1><center> Reflectometry Data Analysis and Simulation Software </center></h1>\n",
    " <h2><center> - Co-refinement of multiple contrast neutron reflectivity data - </center></h2>\n",
    "<center>[The Lipid Bilayer model simulated in this notebook is based on the Refnx paper] </center>\n",
    "\n",
    "Some of the essential and/or nice to have features of reflectometry software are:\n",
    "\n",
    " - Graphical User Interface\n",
    " - **Refine multiple datasets (multiple contrast co-refinement)**\n",
    " - Open source software \n",
    " - Optimisation modules to find the best fit (global minimum)\n",
    " - Fitting  neutron and X-ray reflectometry data\n",
    " - Simple workflow\n",
    "\n",
    "In this notebook, BornAgain is used to fit a model using multiple datasets (i.e. co-refinement). The model consist of a Lipid Bilayer on a Silicon Dioxide (${\\rm SiO_2}$) bed; the whole immersed in a solvent and lying on top of a Silicon substrate. Three different solvents are used for co-refinement: water (${\\rm H_2O}$), heavy water (${\\rm D_2O}$) and a *contrast-match* mix of the two (${\\rm HD_{mix}}$).\n",
    "\n",
    "---\n",
    "\n",
    "*Refnx paper: http://scripts.iucr.org/cgi-bin/paper?rg5158*   \n",
    "*Bornagain: http://www.bornagainproject.org*  "
   ]
  },
  {
   "cell_type": "code",
   "execution_count": 1,
   "metadata": {},
   "outputs": [],
   "source": [
    "import numpy as np\n",
    "import matplotlib.pyplot as plt\n",
    "from scipy.optimize import curve_fit\n",
    "from datetime import datetime as dtime\n",
    "%matplotlib inline"
   ]
  },
  {
   "cell_type": "code",
   "execution_count": 2,
   "metadata": {},
   "outputs": [],
   "source": [
    "import bornagain as ba\n",
    "from bornagain import deg, angstrom\n",
    "import LipidBilayerUtils as lip\n",
    "WAVELENGTH = 1.0 # Dummy wavelength.\n",
    "THETA_VALUES = np.linspace(0.0,10,1025)\n",
    "Q_VALUES = 4.0*np.pi*np.sin(THETA_VALUES*np.pi/180.0)/WAVELENGTH\n",
    "BornAgainLipidFile=\"./Lipid-BornAgain.dat\""
   ]
  },
  {
   "cell_type": "markdown",
   "metadata": {},
   "source": [
    "### Helper Functions:"
   ]
  },
  {
   "cell_type": "code",
   "execution_count": 3,
   "metadata": {},
   "outputs": [],
   "source": [
    "def theta_to_q(theta, wavelength = 1.0):\n",
    "    return 4.0 * np.pi * np.sin(theta*np.pi/180.0) / wavelength\n",
    "\n",
    "def q_to_theta(qvec, wavelength = 1.0):\n",
    "    return 180.0 * np.arcsin( wavelength * qvec / (4.0*np.pi) ) / np.pi\n",
    "                     \n",
    "def ReflectometryInstrument():\n",
    "    return ba.SpecularSimulation()\n",
    "\n",
    "def create_ba_params(some_dict):\n",
    "    ba_params = ba.Parameters()\n",
    "    for k,v in some_dict.items():\n",
    "        ba_params.add(k,v[0],min=v[1],max=v[2])\n",
    "    return ba_params\n",
    "\n",
    "def setup_instrument(parameters={}):\n",
    "    wavelength = parameters[\"wavelength\"] if \"wavelength\" in parameters else WAVELENGTH\n",
    "    theta = parameters[\"theta\"] if \"theta\" in parameters else THETA_VALUES\n",
    "    background = parameters[\"background\"] if \"background\" in parameters else 0.0\n",
    "    \n",
    "    instrument = ReflectometryInstrument()\n",
    "    instrument.setBeamParameters(wavelength * angstrom, theta * deg)\n",
    "    instrument.setBackground(ba.ConstantBackground(background))\n",
    "    return instrument\n",
    "\n",
    "def setup_sample(sample_parameters={}):\n",
    "    xpar = lip.SampleParameters(sample_parameters)\n",
    "    sample = lip.get_lipid_bilayer_sample(xpar)\n",
    "    return sample\n",
    "\n",
    "def instrument_with_sample(params):\n",
    "    sample = setup_sample(params)\n",
    "    instrument = setup_instrument(params)\n",
    "    instrument.setSample(sample)\n",
    "    return instrument\n",
    "    \n",
    "def ba_reflectivity(instrument,sample):\n",
    "    instrument.setSample(sample)\n",
    "    instrument.runSimulation()\n",
    "    results = instrument.result()\n",
    "    simulation_data = results.data()\n",
    "    return simulation_data.getArray()"
   ]
  },
  {
   "cell_type": "markdown",
   "metadata": {},
   "source": [
    "## Fitting wrapers to reduce boilerplate code:"
   ]
  },
  {
   "cell_type": "code",
   "execution_count": 4,
   "metadata": {},
   "outputs": [],
   "source": [
    "def fit_single_model(model_to_fit, data_to_fit, dict_pars_to_fit):\n",
    "    ba_params = create_ba_params(dict_pars_to_fit)\n",
    "    fitter = lip.CustomFitObjective()\n",
    "    fitter.addSimulationAndData(model_to_fit, data_to_fit)\n",
    "    minimizer = ba.Minimizer()\n",
    "    result = minimizer.minimize(fitter.evaluate, ba_params)\n",
    "    fitter.finalize(result)\n",
    "    fitted_params = result.parameters()\n",
    "    fit_val_dict = {}\n",
    "    fit_err_dict = {}\n",
    "    for k in dict_pars_to_fit:\n",
    "        fit_val_dict[k] = fitted_params[k].value\n",
    "        fit_err_dict[k] = fitted_params[k].error\n",
    "    return fit_val_dict, fit_err_dict\n",
    "\n",
    "def fit_co_refinement(models_to_fit, data_to_fit, dict_pars_to_fit):\n",
    "    ba_params = create_ba_params(dict_pars_to_fit)\n",
    "    fitter = lip.CustomFitObjective()\n",
    "    \n",
    "    for model, data in zip(models_to_fit, data_to_fit):\n",
    "        fitter.addSimulationAndData(model, data)\n",
    "        \n",
    "    minimizer = ba.Minimizer()\n",
    "    result = minimizer.minimize(fitter.evaluate, ba_params)\n",
    "    fitter.finalize(result)\n",
    "    fitted_params = result.parameters()\n",
    "    fit_val_dict = {}\n",
    "    fit_err_dict = {}\n",
    "    \n",
    "    for par in fitted_params:\n",
    "        fit_val_dict[par.name()] = par.value\n",
    "        fit_err_dict[par.name()] = par.error\n",
    "        \n",
    "    return fit_val_dict, fit_err_dict"
   ]
  },
  {
   "cell_type": "markdown",
   "metadata": {},
   "source": [
    "Inside `LipidBilayerUtils.py` the figure of merit is redefined:"
   ]
  },
  {
   "cell_type": "markdown",
   "metadata": {},
   "source": [
    "  \n",
    "```python \n",
    "   9 class CustomFitObjective(ba.FitObjective):\n",
    "  10     def __init__(self):\n",
    "  11         ba.FitObjective.__init__(self)\n",
    "  12 \n",
    "  13     def evaluate(self, params):\n",
    "  14 \n",
    "  15         # Evaluate residuals needs to be called always:\n",
    "  16         bla = self.evaluate_residuals(params)\n",
    "  17 \n",
    "  18         sim = (np.asarray(self.simulation_array()))\n",
    "  19         exp = (np.asarray(self.experimental_array()))\n",
    "  20         eps = (np.sum(np.abs(exp))/exp.size) * 1e-14\n",
    "  21         sim_exp_diff = ((sim - exp)/(eps + sim + exp))**2\n",
    "  22 \n",
    "  23         return sim_exp_diff.sum()\n",
    "```"
   ]
  },
  {
   "cell_type": "markdown",
   "metadata": {},
   "source": [
    "### Single Curve Fit in scipy:\n",
    "\n",
    "```python\n",
    "from scipy.optimize import curve_fit\n",
    "\n",
    "def function_to_fit(x_data, a, b): \n",
    "    ...\n",
    "    return y_model\n",
    "\n",
    "popt, pcov = curve_fit(\n",
    "    function_to_fit, \n",
    "    x_data, \n",
    "    y_data, \n",
    "    bounds = ([a_min,b_min],[a_max,b_max])\n",
    ")\n",
    "```"
   ]
  },
  {
   "cell_type": "markdown",
   "metadata": {},
   "source": [
    "### Fitting using the wrappers:"
   ]
  },
  {
   "cell_type": "code",
   "execution_count": null,
   "metadata": {
    "scrolled": true
   },
   "outputs": [],
   "source": [
    "refl_clean = ba_reflectivity(setup_instrument(),setup_sample())\n",
    "\n",
    "dict_params = {'head_a_thickness' : (7.5,5,10), 'head_f_thickness' : (7.5,5,10)}\n",
    "\n",
    "fit_val_dict, fit_err_dict = fit_single_model(instrument_with_sample, refl_clean, dict_params)"
   ]
  },
  {
   "cell_type": "markdown",
   "metadata": {},
   "source": [
    "### Obtaining resulting model:"
   ]
  },
  {
   "cell_type": "code",
   "execution_count": null,
   "metadata": {},
   "outputs": [
    {
     "name": "stdout",
     "output_type": "stream",
     "text": [
      "head_a_thickness =  9.815177643555847  +/-  0.05945901988541369 ; correct value :  9.815135921819564\n",
      "head_f_thickness =  5.6481658113101165  +/-  0.029202189809369727 ; correct value :  5.648173678129387\n"
     ]
    },
    {
     "data": {
      "text/plain": [
       "<matplotlib.lines.Line2D at 0x7fb4e65b8cf8>"
      ]
     },
     "execution_count": 6,
     "metadata": {},
     "output_type": "execute_result"
    },
    {
     "data": {
      "image/png": "[encoded data removed]",
      "text/plain": [
       "<Figure size 432x288 with 1 Axes>"
      ]
     },
     "metadata": {
      "needs_background": "light"
     },
     "output_type": "display_data"
    }
   ],
   "source": [
    "refl_fit = ba_reflectivity(setup_instrument(),setup_sample(fit_val_dict))\n",
    "\n",
    "for k in fit_val_dict:\n",
    "    print(k + \" = \",fit_val_dict[k], \" +/- \", fit_err_dict[k], \"; correct value : \", lip.SampleParameters()[k])\n",
    "    \n",
    "sim = refl_fit\n",
    "exp = refl_clean\n",
    "relerr = 0.5*abs(sim-exp)/abs(sim+exp)\n",
    "plt.plot(Q_VALUES,exp,'k--')\n",
    "plt.plot(Q_VALUES,sim,'r-',alpha=0.65)\n",
    "plt.plot(Q_VALUES,relerr,'k:')\n",
    "plt.yscale('log')\n",
    "plt.axhline(y=relerr.mean(),color='k',ls='--')"
   ]
  },
  {
   "cell_type": "markdown",
   "metadata": {},
   "source": [
    "# Co-Refinement of simulated data"
   ]
  },
  {
   "cell_type": "code",
   "execution_count": null,
   "metadata": {},
   "outputs": [],
   "source": [
    "data_clean_d2o = ba_reflectivity(setup_instrument(),setup_sample({'solvent_sld' : lip.SampleParameters().d2o_sld}))\n",
    "data_clean_h2o = ba_reflectivity(setup_instrument(),setup_sample({'solvent_sld' : lip.SampleParameters().h2o_sld}))\n",
    "data_clean_hdmix = ba_reflectivity(setup_instrument(),setup_sample({'solvent_sld' : lip.SampleParameters().si_sld}))\n",
    "\n",
    "plt.plot(Q_VALUES,data_clean_d2o,'r-')\n",
    "plt.plot(Q_VALUES,1e-2*data_clean_h2o,'g--')\n",
    "plt.plot(Q_VALUES,1e-4*data_clean_hdmix,'b:')\n",
    "plt.yscale('log')"
   ]
  },
  {
   "cell_type": "code",
   "execution_count": null,
   "metadata": {},
   "outputs": [],
   "source": [
    "dict_pars_to_fit = {'head_a_thickness' : (7.5,5,10), 'head_f_thickness' : (7.5,5,10)}\n",
    "\n",
    "model_to_fit_d2o   = lambda params : instrument_with_sample({**params,'solvent_sld' : lip.SampleParameters().d2o_sld})\n",
    "model_to_fit_h2o   = lambda params : instrument_with_sample({**params,'solvent_sld' : lip.SampleParameters().h2o_sld})\n",
    "model_to_fit_hdmix = lambda params : instrument_with_sample({**params,'solvent_sld' : lip.SampleParameters().si_sld})\n",
    "\n",
    "models_to_fit = [model_to_fit_d2o,model_to_fit_h2o,model_to_fit_hdmix]\n",
    "data_to_fit   = [data_clean_d2o,data_clean_h2o,data_clean_hdmix]\n",
    "\n",
    "fit_val_dict, fit_err_dict = fit_co_refinement(models_to_fit, data_to_fit, dict_pars_to_fit)\n",
    "\n",
    "refl_fit_d2o   = ba_reflectivity(setup_instrument(),setup_sample({**fit_val_dict,'solvent_sld' : lip.SampleParameters().d2o_sld}))\n",
    "refl_fit_h2o   = ba_reflectivity(setup_instrument(),setup_sample({**fit_val_dict,'solvent_sld' : lip.SampleParameters().h2o_sld}))\n",
    "refl_fit_hdmix = ba_reflectivity(setup_instrument(),setup_sample({**fit_val_dict,'solvent_sld' : lip.SampleParameters().si_sld}))\n",
    "\n",
    "for k in fit_val_dict:\n",
    "    print(k + \" = \",fit_val_dict[k], \" +/- \", fit_err_dict[k], \"; correct value : \", lip.SampleParameters()[k])"
   ]
  },
  {
   "cell_type": "code",
   "execution_count": null,
   "metadata": {},
   "outputs": [],
   "source": [
    "shift = 1.0\n",
    "for exp, sim in zip([refl_fit_d2o,refl_fit_h2o, refl_fit_hdmix],[data_clean_d2o,data_clean_h2o, data_clean_hdmix]):\n",
    "    relerr = 0.5*abs(sim-exp)/abs(sim+exp)\n",
    "    plt.plot(Q_VALUES,shift*exp,'k--')\n",
    "    plt.plot(Q_VALUES,shift*sim,'r-',alpha=0.65)\n",
    "    plt.plot(Q_VALUES,relerr,'k:')\n",
    "    plt.yscale('log')\n",
    "    plt.axhline(y=relerr.mean(),color='k',ls='--')\n",
    "    shift *= 0.01\n"
   ]
  },
  {
   "cell_type": "markdown",
   "metadata": {},
   "source": [
    "# Co-refinement of actual data"
   ]
  },
  {
   "cell_type": "markdown",
   "metadata": {},
   "source": [
    "### 1. Import data and filter out spurious data-points:"
   ]
  },
  {
   "cell_type": "code",
   "execution_count": null,
   "metadata": {},
   "outputs": [],
   "source": [
    "file_data_to_fit = lambda name : \"../DataToFit/RefnxData_\"+name+\".dat\"\n",
    "#file_data_to_fit = lambda name : \"../DataToFit/FitByRefnx_\"+name+\".txt\"\n",
    "\n",
    "\n",
    "real_data = {}\n",
    "for solvent_name in [\"d2o\", \"h2o\", \"hdmix\"]:\n",
    "    real_data[solvent_name] = lip.get_real_data(file_data_to_fit(solvent_name))\n",
    "    plt.errorbar(real_data[solvent_name][:,0],real_data[solvent_name][:,1],yerr=real_data[solvent_name][:,2],ls='--')\n",
    "\n",
    "plt.yscale('log')"
   ]
  },
  {
   "cell_type": "code",
   "execution_count": null,
   "metadata": {},
   "outputs": [],
   "source": [
    "filtered_data = {}\n",
    "\n",
    "for solvent_name in [\"d2o\", \"h2o\", \"hdmix\"]:\n",
    "    filtered_data[solvent_name] =  real_data[solvent_name][(real_data[solvent_name][:,1]>0)]\n",
    "    plt.errorbar(filtered_data[solvent_name][:,0],filtered_data[solvent_name][:,1],yerr=filtered_data[solvent_name][:,2],ls='--')\n",
    "    \n",
    "plt.yscale('log')"
   ]
  },
  {
   "cell_type": "markdown",
   "metadata": {},
   "source": [
    "### 2. Define the models and the parameters to fit:\n",
    "\n",
    " - The models are defined as functions of a single argument --the parameters to fit:\n",
    " $$f(\\{ {\\rm p_i} \\})$$\n",
    " - The parameters are defined as a python dictionary:\n",
    " $$\\{ {\\rm p_i} : {\\rm (v_{i,0}, v_{i,min}, v_{i,max}) } \\}$$"
   ]
  },
  {
   "cell_type": "code",
   "execution_count": null,
   "metadata": {},
   "outputs": [],
   "source": [
    "instrument_params = lambda name : {\"theta\" : q_to_theta(filtered_data[name][:,0]), \n",
    "                                   \"background\": lip.SampleParameters()[name+\"_bkg\"]\n",
    "                                  }\n",
    "\n",
    "model_to_fit_d2o   = lambda params : instrument_with_sample({\n",
    "        **params,\n",
    "        'solvent_sld' : lip.SampleParameters().d2o_sld,\n",
    "        **instrument_params('d2o')\n",
    "    })\n",
    "\n",
    "model_to_fit_h2o   = lambda params : instrument_with_sample({\n",
    "        **params,\n",
    "        'solvent_sld' : lip.SampleParameters().h2o_sld,\n",
    "        **instrument_params('h2o')\n",
    "    })\n",
    "    \n",
    "model_to_fit_hdmix = lambda params : instrument_with_sample({\n",
    "        **params,\n",
    "        'solvent_sld' : lip.SampleParameters().si_sld,\n",
    "        **instrument_params('hdmix')\n",
    "    })\n",
    "\n",
    "dict_pars_to_fit = {'head_a_thickness' : (7.5,5,10), 'head_f_thickness' : (7.5,5,10)}\n",
    "models_to_fit = [model_to_fit_d2o, model_to_fit_h2o, model_to_fit_hdmix]\n",
    "data_to_fit   = [filtered_data[solvent_name][:,1] for solvent_name in [\"d2o\", \"h2o\", \"hdmix\"]]"
   ]
  },
  {
   "cell_type": "markdown",
   "metadata": {},
   "source": [
    "## The fitting happens here:"
   ]
  },
  {
   "cell_type": "code",
   "execution_count": null,
   "metadata": {},
   "outputs": [],
   "source": [
    "fit_val_dict, fit_err_dict = fit_co_refinement(models_to_fit, data_to_fit, dict_pars_to_fit)"
   ]
  },
  {
   "cell_type": "markdown",
   "metadata": {},
   "source": [
    "## Create and plot models with the fitted parameters:"
   ]
  },
  {
   "cell_type": "code",
   "execution_count": null,
   "metadata": {},
   "outputs": [],
   "source": [
    "for k in fit_val_dict:\n",
    "    print(k + \" = \",fit_val_dict[k], \" +/- \", fit_err_dict[k], \"; correct value : \", lip.SampleParameters()[k])\n",
    "\n",
    "refl_fit ={}\n",
    "refl_fit['d2o']   = ba_reflectivity(setup_instrument(instrument_params(\"d2o\")),setup_sample({**fit_val_dict,'solvent_sld' : lip.SampleParameters()['d2o_sld']}))\n",
    "refl_fit['h2o']   = ba_reflectivity(setup_instrument(instrument_params(\"h2o\")),setup_sample({**fit_val_dict,'solvent_sld' : lip.SampleParameters()['h2o_sld']}))\n",
    "refl_fit['hdmix'] = ba_reflectivity(setup_instrument(instrument_params(\"hdmix\")),setup_sample({**fit_val_dict,'solvent_sld' : lip.SampleParameters()['si_sld']}))\n",
    "\n",
    "shift = 1.0\n",
    "accum = 0.0\n",
    "for solvent_name in [\"d2o\", \"h2o\", \"hdmix\"]:\n",
    "    qvals = filtered_data[solvent_name][:,0]\n",
    "    exp = filtered_data[solvent_name][:,1]\n",
    "    sim = refl_fit[solvent_name]\n",
    "    relerr = 0.5*(abs(sim-exp)/abs(sim+exp))\n",
    "    plt.plot(qvals,shift*exp,'k--')\n",
    "    plt.plot(qvals,shift*sim,'r-',alpha=0.65)\n",
    "    plt.plot(qvals,relerr,'k:')\n",
    "    plt.yscale('log')\n",
    "    plt.axhline(y=relerr.mean(),color='k',ls='--')\n",
    "    plt.ylim([1e-12,1e1])\n",
    "    shift *= 0.01"
   ]
  },
  {
   "cell_type": "markdown",
   "metadata": {},
   "source": [
    "## Do the same for the benchmark *model* (The model fitted by Refnx):"
   ]
  },
  {
   "cell_type": "code",
   "execution_count": null,
   "metadata": {},
   "outputs": [],
   "source": [
    "file_data_to_fit = lambda name : \"../DataToFit/FitByRefnx_\"+name+\".txt\"\n",
    "\n",
    "\n",
    "real_data = {}\n",
    "filtered_data = {}\n",
    "for solvent_name in [\"d2o\", \"h2o\", \"hdmix\"]:\n",
    "    real_data[solvent_name] = lip.get_real_data(file_data_to_fit(solvent_name))\n",
    "    filtered_data[solvent_name] =  real_data[solvent_name][(real_data[solvent_name][:,1]>0)]\n",
    "data_to_fit   = [filtered_data[solvent_name][:,1] for solvent_name in [\"d2o\", \"h2o\", \"hdmix\"]]\n",
    "\n",
    "fit_val_dict, fit_err_dict = fit_co_refinement(models_to_fit, data_to_fit, dict_pars_to_fit)\n",
    "\n",
    "for k in fit_val_dict:\n",
    "    print(k + \" = \",fit_val_dict[k], \" +/- \", fit_err_dict[k], \"; correct value : \", lip.SampleParameters()[k])\n",
    "\n",
    "refl_fit ={}\n",
    "refl_fit['d2o']   = ba_reflectivity(setup_instrument(instrument_params(\"d2o\")),setup_sample({**fit_val_dict,'solvent_sld' : lip.SampleParameters()['d2o_sld']}))\n",
    "refl_fit['h2o']   = ba_reflectivity(setup_instrument(instrument_params(\"h2o\")),setup_sample({**fit_val_dict,'solvent_sld' : lip.SampleParameters()['h2o_sld']}))\n",
    "refl_fit['hdmix'] = ba_reflectivity(setup_instrument(instrument_params(\"hdmix\")),setup_sample({**fit_val_dict,'solvent_sld' : lip.SampleParameters()['si_sld']}))\n",
    "\n",
    "shift = 1.0\n",
    "accum = 0.0\n",
    "for solvent_name in [\"d2o\", \"h2o\", \"hdmix\"]:\n",
    "    qvals = filtered_data[solvent_name][:,0]\n",
    "    exp = filtered_data[solvent_name][:,1]\n",
    "    sim = refl_fit[solvent_name]\n",
    "    relerr = 0.5*(abs(sim-exp)/abs(sim+exp))\n",
    "    plt.plot(qvals,shift*exp,'k--')\n",
    "    plt.plot(qvals,shift*sim,'r-',alpha=0.65)\n",
    "    plt.plot(qvals,relerr,'k:')\n",
    "    plt.yscale('log')\n",
    "    plt.axhline(y=relerr.mean(),color='k',ls='--')\n",
    "    plt.ylim([1e-12,1e1])\n",
    "    shift *= 0.01\n"
   ]
  },
  {
   "cell_type": "code",
   "execution_count": null,
   "metadata": {},
   "outputs": [],
   "source": []
  }
 ],
 "metadata": {
  "kernelspec": {
   "display_name": "Python 3",
   "language": "python",
   "name": "python3"
  },
  "language_info": {
   "codemirror_mode": {
    "name": "ipython",
    "version": 3
   },
   "file_extension": ".py",
   "mimetype": "text/x-python",
   "name": "python",
   "nbconvert_exporter": "python",
   "pygments_lexer": "ipython3",
   "version": "3.6.6"
  }
 },
 "nbformat": 4,
 "nbformat_minor": 2
}
